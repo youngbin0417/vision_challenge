{
  "nbformat": 4,
  "nbformat_minor": 0,
  "metadata": {
    "colab": {
      "provenance": [],
      "gpuType": "T4",
      "include_colab_link": true
    },
    "kernelspec": {
      "name": "python3",
      "display_name": "Python 3"
    },
    "language_info": {
      "name": "python"
    },
    "accelerator": "GPU"
  },
  "cells": [
    {
      "cell_type": "markdown",
      "metadata": {
        "id": "view-in-github",
        "colab_type": "text"
      },
      "source": [
        "<a href=\"https://colab.research.google.com/github/youngbin0417/vision_challenge/blob/final/c2.ipynb\" target=\"_parent\"><img src=\"https://colab.research.google.com/assets/colab-badge.svg\" alt=\"Open In Colab\"/></a>"
      ]
    },
    {
      "cell_type": "code",
      "source": [
        "# !pip install torchsummary\n",
        "!pip install opencv-python-headless\n"
      ],
      "metadata": {
        "id": "EjnHirnG_Ch2",
        "colab": {
          "base_uri": "https://localhost:8080/"
        },
        "outputId": "61376928-adfc-4cfa-9df1-91b23cf82f37"
      },
      "execution_count": 49,
      "outputs": [
        {
          "output_type": "stream",
          "name": "stdout",
          "text": [
            "Requirement already satisfied: opencv-python-headless in /usr/local/lib/python3.11/dist-packages (4.11.0.86)\n",
            "Requirement already satisfied: numpy>=1.21.2 in /usr/local/lib/python3.11/dist-packages (from opencv-python-headless) (2.0.2)\n"
          ]
        }
      ]
    },
    {
      "cell_type": "code",
      "source": [
        "import warnings\n",
        "warnings.filterwarnings(\"ignore\")\n",
        "\n",
        "import torch\n",
        "import torch.nn as nn\n",
        "import torch.optim as optim\n",
        "import torchvision\n",
        "from torchvision import datasets, models, transforms\n",
        "\n",
        "from torchsummary import summary\n",
        "from collections import defaultdict\n",
        "from PIL import Image\n",
        "import os\n",
        "import copy\n",
        "import time\n",
        "import numpy as np\n",
        "import matplotlib.pyplot as plt\n",
        "import cv2\n",
        "from tqdm import tqdm\n",
        "\n",
        "\n",
        "from torch.utils.data import DataLoader\n",
        "from torch.optim.lr_scheduler import ReduceLROnPlateau\n",
        "print(\"PyTorch Version: \",torch.__version__)\n",
        "print(\"Torchvision Version: \",torchvision.__version__)"
      ],
      "metadata": {
        "id": "Gg3lZN2BR-CN"
      },
      "execution_count": null,
      "outputs": []
    },
    {
      "cell_type": "markdown",
      "source": [
        "## Prepair Dataset"
      ],
      "metadata": {
        "id": "2t_aNjhVtdk2"
      }
    },
    {
      "cell_type": "code",
      "source": [
        "!git clone https://github.com/folfcoder/recaptcha-dataset.git"
      ],
      "metadata": {
        "colab": {
          "base_uri": "https://localhost:8080/"
        },
        "id": "IZZi5pnKTQQ4",
        "outputId": "37f822c8-c0f1-4454-fb4e-7783147d4441"
      },
      "execution_count": null,
      "outputs": [
        {
          "output_type": "stream",
          "name": "stdout",
          "text": [
            "Cloning into 'recaptcha-dataset'...\n",
            "remote: Enumerating objects: 11754, done.\u001b[K\n",
            "remote: Counting objects: 100% (12/12), done.\u001b[K\n",
            "remote: Compressing objects: 100% (12/12), done.\u001b[K\n",
            "remote: Total 11754 (delta 5), reused 1 (delta 0), pack-reused 11742\u001b[K\n",
            "Receiving objects: 100% (11754/11754), 395.64 MiB | 28.70 MiB/s, done.\n",
            "Resolving deltas: 100% (6/6), done.\n",
            "Updating files: 100% (11779/11779), done.\n"
          ]
        }
      ]
    },
    {
      "cell_type": "code",
      "source": [
        "!rm -rf ./recaptcha-dataset/Large/Mountain/\n",
        "!rm -rf ./recaptcha-dataset/Large/Other/\n",
        "!rm -rf ./recaptcha-dataset/Large/readme.txt"
      ],
      "metadata": {
        "id": "PZHFOiRVT5ke"
      },
      "execution_count": null,
      "outputs": []
    },
    {
      "cell_type": "code",
      "source": [
        "from google.colab import drive\n",
        "drive.mount('/content/drive')"
      ],
      "metadata": {
        "colab": {
          "base_uri": "https://localhost:8080/"
        },
        "id": "Jem18qQN4NlT",
        "outputId": "b31baf9f-7af7-48c9-d82b-d2793514385f"
      },
      "execution_count": 2,
      "outputs": [
        {
          "output_type": "stream",
          "name": "stdout",
          "text": [
            "Mounted at /content/drive\n"
          ]
        }
      ]
    },
    {
      "cell_type": "code",
      "source": [
        "%cd /content/drive/My Drive/challenge\n",
        "!pwd"
      ],
      "metadata": {
        "colab": {
          "base_uri": "https://localhost:8080/"
        },
        "id": "Ji9fKl9_48Pk",
        "outputId": "71e6f89d-708c-4d5a-b965-25204ea4bc43"
      },
      "execution_count": 3,
      "outputs": [
        {
          "output_type": "stream",
          "name": "stdout",
          "text": [
            "/content/drive/My Drive/challenge\n",
            "/content/drive/My Drive/challenge\n"
          ]
        }
      ]
    },
    {
      "cell_type": "code",
      "source": [
        "def apply_preprocessing(pil_img):\n",
        "    # PIL → NumPy (BGR로 변환)\n",
        "    img = np.array(pil_img)\n",
        "    img = cv2.cvtColor(img, cv2.COLOR_RGB2BGR)\n",
        "\n",
        "    # --- CLAHE (채널별로 적용) ---\n",
        "    lab = cv2.cvtColor(img, cv2.COLOR_BGR2LAB)\n",
        "    l, a, b = cv2.split(lab)\n",
        "    clahe = cv2.createCLAHE(clipLimit=2.0, tileGridSize=(8, 8))\n",
        "    cl = clahe.apply(l)\n",
        "    lab = cv2.merge((cl, a, b))\n",
        "    img = cv2.cvtColor(lab, cv2.COLOR_LAB2BGR)\n",
        "\n",
        "    # --- Unsharp Masking ---\n",
        "    gaussian = cv2.GaussianBlur(img, (0, 0), 3)\n",
        "    img = cv2.addWeighted(img, 1.5, gaussian, -0.5, 0)\n",
        "\n",
        "    # --- Denoising ---\n",
        "    img = cv2.fastNlMeansDenoisingColored(img, None, h=10, hColor=10, templateWindowSize=7, searchWindowSize=21)\n",
        "\n",
        "    # --- RGB로 복원 후 Tensor 변환 ---\n",
        "    img = cv2.cvtColor(img, cv2.COLOR_BGR2RGB)\n",
        "    img = Image.fromarray(img)\n",
        "    return img"
      ],
      "metadata": {
        "id": "Gs33uVG5bi21"
      },
      "execution_count": 82,
      "outputs": []
    },
    {
      "cell_type": "code",
      "source": [
        "data_dir = \"./images_preprocessed\"\n",
        "#data_dir = \"./images\"\n",
        "\n",
        "input_size = 224\n",
        "batch_size = 32\n",
        "\n",
        "# class_names 정의 (이전 코드에서 가져옴)\n",
        "class_names = ['Bicycle', 'Bridge', 'Bus', 'Car',\n",
        "               'Chimney', 'Crosswalk', 'Hydrant',\n",
        "               'Motorcycle', 'Palm', 'Traffic Light']\n",
        "# 학습 데이터셋을 위한 변환 (증강 + 정규화)\n",
        "train_transforms = transforms.Compose([\n",
        "    transforms.RandomResizedCrop(input_size),\n",
        "    transforms.RandomHorizontalFlip(),\n",
        "    transforms.ColorJitter(brightness=0.2, contrast=0.2, saturation=0.2, hue=0.1),\n",
        "    transforms.ToTensor(), # Move ToTensor before transforms that expect a tensor\n",
        "    transforms.RandomErasing(p=0.3, scale=(0.02, 0.2), ratio=(0.3, 3.3), value=0, inplace=False),\n",
        "    transforms.Normalize([0.485, 0.456, 0.406], [0.229, 0.224, 0.225])\n",
        "])\n",
        "\n",
        "# 검증 데이터셋을 위한 변환 (정규화만)\n",
        "val_transforms = transforms.Compose([\n",
        "    transforms.Resize(input_size),\n",
        "    transforms.CenterCrop(input_size),\n",
        "    transforms.ToTensor(),\n",
        "    transforms.Normalize([0.485, 0.456, 0.406], [0.229, 0.224, 0.225])\n",
        "])\n",
        "\n",
        "print(\"Initializing Datasets and Dataloaders...\")\n",
        "\n",
        "# --- 데이터셋 로드 및 특정 클래스 샘플링 (이전 코드에서 가져옴) ---\n",
        "\n",
        "base_dataset = datasets.ImageFolder(data_dir)\n",
        "\n",
        "class_to_idx = base_dataset.class_to_idx\n",
        "car_idx = class_to_idx.get('Car')\n",
        "bus_idx = class_to_idx.get('Bus')\n",
        "\n",
        "label_to_indices = defaultdict(list)\n",
        "for idx, (_, label) in enumerate(base_dataset.samples):\n",
        "    label_to_indices[label].append(idx)\n",
        "\n",
        "final_indices_list = []\n",
        "for label, indices in label_to_indices.items():\n",
        "    if label == car_idx or label == bus_idx:\n",
        "        sampled = np.random.choice(indices, size=min(1000, len(indices)), replace=False).tolist()\n",
        "        final_indices_list.extend(sampled)\n",
        "    else:\n",
        "        final_indices_list.extend(indices)\n",
        "\n",
        "final_indices_np = np.array(final_indices_list)\n",
        "\n",
        "# --- 학습/검증 데이터셋 분할 및 DataLoader 설정 (이전 코드에서 가져옴) ---\n",
        "\n",
        "num_data = len(final_indices_np)\n",
        "indices_for_split = np.arange(num_data)\n",
        "np.random.shuffle(indices_for_split)\n",
        "\n",
        "train_size = int(num_data * 0.8)\n",
        "train_subset_indices = indices_for_split[:train_size]\n",
        "val_subset_indices = indices_for_split[train_size:]\n",
        "\n",
        "class CustomImageDataset(torch.utils.data.Dataset):\n",
        "    def __init__(self, original_dataset, indices, transform=None):\n",
        "        self.samples = [original_dataset.samples[i] for i in indices]\n",
        "        self.transform = transform\n",
        "\n",
        "    def __len__(self):\n",
        "        return len(self.samples)\n",
        "\n",
        "    def __getitem__(self, idx):\n",
        "        path, label = self.samples[idx]\n",
        "        image = Image.open(path).convert('RGB')\n",
        "        if self.transform:\n",
        "            image = self.transform(image)\n",
        "        return image, label\n",
        "\n",
        "train_set = CustomImageDataset(base_dataset, final_indices_np[train_subset_indices], transform=train_transforms)\n",
        "val_set = CustomImageDataset(base_dataset, final_indices_np[val_subset_indices], transform=val_transforms)\n",
        "\n",
        "print('Number of training data:', len(train_set))\n",
        "print('Number of validation data:', len(val_set))\n",
        "\n",
        "dataloaders = {\n",
        "    'train': torch.utils.data.DataLoader(train_set, batch_size=batch_size, shuffle=True, num_workers=0),\n",
        "    'val': torch.utils.data.DataLoader(val_set, batch_size=batch_size, shuffle=True, num_workers=0)\n",
        "}\n",
        "\n",
        "if not os.path.exists(data_dir):\n",
        "    print(f\"경고: 데이터 디렉토리 '{data_dir}'를 찾을 수 없습니다. 경로를 확인해주세요.\")\n"
      ],
      "metadata": {
        "colab": {
          "base_uri": "https://localhost:8080/"
        },
        "id": "f-a5q-mm4NDS",
        "outputId": "3028416f-adb7-4662-c61c-df40340de6c3"
      },
      "execution_count": 81,
      "outputs": [
        {
          "output_type": "stream",
          "name": "stdout",
          "text": [
            "Initializing Datasets and Dataloaders...\n",
            "Number of training data: 7272\n",
            "Number of validation data: 1819\n"
          ]
        }
      ]
    },
    {
      "cell_type": "code",
      "source": [
        "def imshow(img, title=None):\n",
        "    # img: Tensor HxWxC normalized\n",
        "    img = img.numpy().transpose((1, 2, 0))\n",
        "    mean = np.array([0.485, 0.456, 0.406])\n",
        "    std  = np.array([0.229, 0.224, 0.225])\n",
        "    img = std * img + mean\n",
        "    img = np.clip(img, 0, 1)\n",
        "    plt.imshow(img)\n",
        "    if title:\n",
        "        plt.title(title)\n",
        "    plt.axis('off')\n",
        "    plt.show()"
      ],
      "metadata": {
        "id": "NjtPEI637SS6"
      },
      "execution_count": 83,
      "outputs": []
    },
    {
      "cell_type": "code",
      "source": [
        "# Get a batch of training data\n",
        "inputs, labels = next(iter(dataloaders['train']))\n",
        "print(\"inputs.shape:\", inputs.shape)\n",
        "print(\"labels.shape:\", labels.shape)\n",
        "\n",
        "# Make a grid from batch\n",
        "out = torchvision.utils.make_grid(inputs[:8])\n",
        "\n",
        "imshow(out, title=[class_names[x] for x in labels[:8]])"
      ],
      "metadata": {
        "colab": {
          "base_uri": "https://localhost:8080/",
          "height": 156
        },
        "id": "HVjOugffCZx5",
        "outputId": "bba1daa8-2654-4af9-f466-41f16f14f179"
      },
      "execution_count": 84,
      "outputs": [
        {
          "output_type": "stream",
          "name": "stdout",
          "text": [
            "inputs.shape: torch.Size([32, 3, 224, 224])\n",
            "labels.shape: torch.Size([32])\n"
          ]
        },
        {
          "output_type": "display_data",
          "data": {
            "text/plain": [
              "<Figure size 640x480 with 1 Axes>"
            ],
            "image/png": "[encoded data removed]"
          },
          "metadata": {}
        }
      ]
    },
    {
      "cell_type": "code",
      "source": [
        "# Get a batch of validation data\n",
        "inputs, labels = next(iter(dataloaders['val']))\n",
        "print(\"inputs.shape:\", inputs.shape)\n",
        "print(\"labels.shape:\", labels.shape)\n",
        "\n",
        "# Make a grid from batch\n",
        "out = torchvision.utils.make_grid(inputs[:8])\n",
        "\n",
        "imshow(out, title=[class_names[x] for x in labels[:8]])"
      ],
      "metadata": {
        "colab": {
          "base_uri": "https://localhost:8080/",
          "height": 156
        },
        "id": "159TxegOCeln",
        "outputId": "23c7581d-8ed8-477d-a819-f5bc64fc85dc"
      },
      "execution_count": 60,
      "outputs": [
        {
          "output_type": "stream",
          "name": "stdout",
          "text": [
            "inputs.shape: torch.Size([32, 3, 224, 224])\n",
            "labels.shape: torch.Size([32])\n"
          ]
        },
        {
          "output_type": "display_data",
          "data": {
            "text/plain": [
              "<Figure size 640x480 with 1 Axes>"
            ],
            "image/png": "[encoded data removed]"
          },
          "metadata": {}
        }
      ]
    },
    {
      "cell_type": "markdown",
      "source": [
        "## Build model"
      ],
      "metadata": {
        "id": "H5HM_CPWCzF9"
      }
    },
    {
      "cell_type": "markdown",
      "source": [
        "### ResNet from scratch"
      ],
      "metadata": {
        "id": "RmfQKsLBD3UM"
      }
    },
    {
      "cell_type": "markdown",
      "source": [
        "![resnet](https://pytorch.org/assets/images/resnet.png)"
      ],
      "metadata": {
        "id": "fm1-PqFBOhRC"
      }
    },
    {
      "cell_type": "code",
      "source": [
        "class Block(nn.Module):\n",
        "\n",
        "    def __init__(self, in_channels, out_channels, identity_downsample=None, stride=1):\n",
        "        super(Block, self).__init__()\n",
        "        self.conv1 = nn.Conv2d(in_channels, out_channels, kernel_size=3, stride=stride, padding=1, bias=False)\n",
        "        self.bn1 = nn.BatchNorm2d(out_channels)\n",
        "        self.conv2 = nn.Conv2d(out_channels, out_channels, kernel_size=3, stride=1, padding=1, bias=False)\n",
        "        self.bn2 = nn.BatchNorm2d(out_channels)\n",
        "        self.relu = nn.ReLU()\n",
        "        self.identity_downsample = identity_downsample\n",
        "\n",
        "    def forward(self, x):\n",
        "        identity = x\n",
        "        x = self.conv1(x)\n",
        "        x = self.bn1(x)\n",
        "        x = self.relu(x)\n",
        "        x = self.conv2(x)\n",
        "        x = self.bn2(x)\n",
        "        if self.identity_downsample is not None:\n",
        "            identity = self.identity_downsample(identity)\n",
        "        x += identity\n",
        "        x = self.relu(x)\n",
        "        return x"
      ],
      "metadata": {
        "id": "WIkxG-ZuD8v8"
      },
      "execution_count": 85,
      "outputs": []
    },
    {
      "cell_type": "code",
      "source": [
        "class EarlyStopping:\n",
        "    def __init__(self, patience=5, verbose=False):\n",
        "        self.patience = patience\n",
        "        self.verbose = verbose\n",
        "        self.counter = 0\n",
        "        self.best_score = None\n",
        "        self.early_stop = False\n",
        "\n",
        "    def __call__(self, val_acc, model):\n",
        "        score = val_acc\n",
        "\n",
        "        if self.best_score is None:\n",
        "            self.best_score = score\n",
        "        elif score < self.best_score:\n",
        "            self.counter += 1\n",
        "            if self.verbose:\n",
        "                print(f\"EarlyStopping counter: {self.counter} / {self.patience}\")\n",
        "            if self.counter >= self.patience:\n",
        "                self.early_stop = True\n",
        "        else:\n",
        "            self.best_score = score\n",
        "            self.counter = 0\n"
      ],
      "metadata": {
        "id": "JsR-6NooRTZG"
      },
      "execution_count": 86,
      "outputs": []
    },
    {
      "cell_type": "code",
      "source": [
        "class ResNet_18(nn.Module):\n",
        "\n",
        "    def __init__(self, image_channels, num_classes):\n",
        "\n",
        "        super(ResNet_18, self).__init__()\n",
        "        self.in_channels = 64\n",
        "        self.conv1 = nn.Conv2d(image_channels, 64, kernel_size=7, stride=2, padding=3, bias=False)\n",
        "        self.bn1 = nn.BatchNorm2d(64)\n",
        "        self.relu = nn.ReLU()\n",
        "        self.maxpool = nn.MaxPool2d(kernel_size=3, stride=2, padding=1)\n",
        "\n",
        "        #resnet layers\n",
        "        self.layer1 = self.__make_layer(64, 64, stride=1)\n",
        "        self.layer2 = self.__make_layer(64, 128, stride=2)\n",
        "        self.layer3 = self.__make_layer(128, 256, stride=2)\n",
        "        self.layer4 = self.__make_layer(256, 512, stride=2)\n",
        "\n",
        "        self.avgpool = nn.AdaptiveAvgPool2d((1, 1))\n",
        "        self.fc = nn.Linear(512, num_classes)\n",
        "\n",
        "    def __make_layer(self, in_channels, out_channels, stride):\n",
        "\n",
        "        identity_downsample = None\n",
        "        if stride != 1:\n",
        "            identity_downsample = self.identity_downsample(in_channels, out_channels)\n",
        "\n",
        "        return nn.Sequential(\n",
        "            Block(in_channels, out_channels, identity_downsample=identity_downsample, stride=stride),\n",
        "            Block(out_channels, out_channels)\n",
        "        )\n",
        "\n",
        "    def forward(self, x):\n",
        "\n",
        "        x = self.conv1(x)\n",
        "        x = self.bn1(x)\n",
        "        x = self.relu(x)\n",
        "        x = self.maxpool(x)\n",
        "\n",
        "        x = self.layer1(x)\n",
        "        x = self.layer2(x)\n",
        "        x = self.layer3(x)\n",
        "        x = self.layer4(x)\n",
        "\n",
        "        x = self.avgpool(x)\n",
        "        x = x.view(x.shape[0], -1)\n",
        "        x = self.fc(x)\n",
        "        return x\n",
        "\n",
        "    def identity_downsample(self, in_channels, out_channels):\n",
        "\n",
        "        return nn.Sequential(\n",
        "            nn.Conv2d(in_channels, out_channels, kernel_size=1, stride=2, bias=False),\n",
        "            nn.BatchNorm2d(out_channels)\n",
        "        )"
      ],
      "metadata": {
        "id": "ZdGXST_OQD_p"
      },
      "execution_count": 87,
      "outputs": []
    },
    {
      "cell_type": "code",
      "source": [
        "model = ResNet_18(image_channels=3, num_classes=10)\n",
        "summary(model, (3, 224, 224), device='cpu')\n",
        "# summary(model, (3, 512, 512), device='cpu')"
      ],
      "metadata": {
        "colab": {
          "base_uri": "https://localhost:8080/"
        },
        "id": "hZe9KMhRSSJi",
        "outputId": "3a9cd55b-f4c0-4e31-b03c-6ecd47be0113"
      },
      "execution_count": 88,
      "outputs": [
        {
          "output_type": "stream",
          "name": "stdout",
          "text": [
            "----------------------------------------------------------------\n",
            "        Layer (type)               Output Shape         Param #\n",
            "================================================================\n",
            "            Conv2d-1         [-1, 64, 112, 112]           9,408\n",
            "       BatchNorm2d-2         [-1, 64, 112, 112]             128\n",
            "              ReLU-3         [-1, 64, 112, 112]               0\n",
            "         MaxPool2d-4           [-1, 64, 56, 56]               0\n",
            "            Conv2d-5           [-1, 64, 56, 56]          36,864\n",
            "       BatchNorm2d-6           [-1, 64, 56, 56]             128\n",
            "              ReLU-7           [-1, 64, 56, 56]               0\n",
            "            Conv2d-8           [-1, 64, 56, 56]          36,864\n",
            "       BatchNorm2d-9           [-1, 64, 56, 56]             128\n",
            "             ReLU-10           [-1, 64, 56, 56]               0\n",
            "            Block-11           [-1, 64, 56, 56]               0\n",
            "           Conv2d-12           [-1, 64, 56, 56]          36,864\n",
            "      BatchNorm2d-13           [-1, 64, 56, 56]             128\n",
            "             ReLU-14           [-1, 64, 56, 56]               0\n",
            "           Conv2d-15           [-1, 64, 56, 56]          36,864\n",
            "      BatchNorm2d-16           [-1, 64, 56, 56]             128\n",
            "             ReLU-17           [-1, 64, 56, 56]               0\n",
            "            Block-18           [-1, 64, 56, 56]               0\n",
            "           Conv2d-19          [-1, 128, 28, 28]          73,728\n",
            "      BatchNorm2d-20          [-1, 128, 28, 28]             256\n",
            "             ReLU-21          [-1, 128, 28, 28]               0\n",
            "           Conv2d-22          [-1, 128, 28, 28]         147,456\n",
            "      BatchNorm2d-23          [-1, 128, 28, 28]             256\n",
            "           Conv2d-24          [-1, 128, 28, 28]           8,192\n",
            "      BatchNorm2d-25          [-1, 128, 28, 28]             256\n",
            "             ReLU-26          [-1, 128, 28, 28]               0\n",
            "            Block-27          [-1, 128, 28, 28]               0\n",
            "           Conv2d-28          [-1, 128, 28, 28]         147,456\n",
            "      BatchNorm2d-29          [-1, 128, 28, 28]             256\n",
            "             ReLU-30          [-1, 128, 28, 28]               0\n",
            "           Conv2d-31          [-1, 128, 28, 28]         147,456\n",
            "      BatchNorm2d-32          [-1, 128, 28, 28]             256\n",
            "             ReLU-33          [-1, 128, 28, 28]               0\n",
            "            Block-34          [-1, 128, 28, 28]               0\n",
            "           Conv2d-35          [-1, 256, 14, 14]         294,912\n",
            "      BatchNorm2d-36          [-1, 256, 14, 14]             512\n",
            "             ReLU-37          [-1, 256, 14, 14]               0\n",
            "           Conv2d-38          [-1, 256, 14, 14]         589,824\n",
            "      BatchNorm2d-39          [-1, 256, 14, 14]             512\n",
            "           Conv2d-40          [-1, 256, 14, 14]          32,768\n",
            "      BatchNorm2d-41          [-1, 256, 14, 14]             512\n",
            "             ReLU-42          [-1, 256, 14, 14]               0\n",
            "            Block-43          [-1, 256, 14, 14]               0\n",
            "           Conv2d-44          [-1, 256, 14, 14]         589,824\n",
            "      BatchNorm2d-45          [-1, 256, 14, 14]             512\n",
            "             ReLU-46          [-1, 256, 14, 14]               0\n",
            "           Conv2d-47          [-1, 256, 14, 14]         589,824\n",
            "      BatchNorm2d-48          [-1, 256, 14, 14]             512\n",
            "             ReLU-49          [-1, 256, 14, 14]               0\n",
            "            Block-50          [-1, 256, 14, 14]               0\n",
            "           Conv2d-51            [-1, 512, 7, 7]       1,179,648\n",
            "      BatchNorm2d-52            [-1, 512, 7, 7]           1,024\n",
            "             ReLU-53            [-1, 512, 7, 7]               0\n",
            "           Conv2d-54            [-1, 512, 7, 7]       2,359,296\n",
            "      BatchNorm2d-55            [-1, 512, 7, 7]           1,024\n",
            "           Conv2d-56            [-1, 512, 7, 7]         131,072\n",
            "      BatchNorm2d-57            [-1, 512, 7, 7]           1,024\n",
            "             ReLU-58            [-1, 512, 7, 7]               0\n",
            "            Block-59            [-1, 512, 7, 7]               0\n",
            "           Conv2d-60            [-1, 512, 7, 7]       2,359,296\n",
            "      BatchNorm2d-61            [-1, 512, 7, 7]           1,024\n",
            "             ReLU-62            [-1, 512, 7, 7]               0\n",
            "           Conv2d-63            [-1, 512, 7, 7]       2,359,296\n",
            "      BatchNorm2d-64            [-1, 512, 7, 7]           1,024\n",
            "             ReLU-65            [-1, 512, 7, 7]               0\n",
            "            Block-66            [-1, 512, 7, 7]               0\n",
            "AdaptiveAvgPool2d-67            [-1, 512, 1, 1]               0\n",
            "           Linear-68                   [-1, 10]           5,130\n",
            "================================================================\n",
            "Total params: 11,181,642\n",
            "Trainable params: 11,181,642\n",
            "Non-trainable params: 0\n",
            "----------------------------------------------------------------\n",
            "Input size (MB): 0.57\n",
            "Forward/backward pass size (MB): 62.79\n",
            "Params size (MB): 42.65\n",
            "Estimated Total Size (MB): 106.01\n",
            "----------------------------------------------------------------\n"
          ]
        }
      ]
    },
    {
      "cell_type": "markdown",
      "source": [
        "### Resnet from model zoo"
      ],
      "metadata": {
        "id": "uSGb0H0LK4sZ"
      }
    },
    {
      "cell_type": "code",
      "source": [
        "def set_parameter_requires_grad(model, feature_extracting):\n",
        "    if feature_extracting:\n",
        "        for param in model.parameters():\n",
        "            param.requires_grad = False"
      ],
      "metadata": {
        "id": "Gn8XdwsxVFIF"
      },
      "execution_count": 89,
      "outputs": []
    },
    {
      "cell_type": "code",
      "source": [
        "def initialize_model(model_name, num_classes, feature_extract, use_pretrained=True):\n",
        "    # Initialize these variables which will be set in this if statement. Each of these\n",
        "    #   variables is model specific.\n",
        "    model_ft = None\n",
        "    input_size = 0\n",
        "\n",
        "    if model_name == \"resnet\":\n",
        "        \"\"\" Resnet18\n",
        "        \"\"\"\n",
        "        model_ft = models.resnet18(pretrained=use_pretrained)\n",
        "        set_parameter_requires_grad(model_ft, feature_extract)\n",
        "        num_ftrs = model_ft.fc.in_features\n",
        "        model_ft.fc = nn.Linear(num_ftrs, num_classes)\n",
        "        input_size = 224\n",
        "\n",
        "    elif model_name == \"alexnet\":\n",
        "        \"\"\" Alexnet\n",
        "        \"\"\"\n",
        "        model_ft = models.alexnet(pretrained=use_pretrained)\n",
        "        set_parameter_requires_grad(model_ft, feature_extract)\n",
        "        num_ftrs = model_ft.classifier[6].in_features\n",
        "        model_ft.classifier[6] = nn.Linear(num_ftrs,num_classes)\n",
        "        input_size = 224\n",
        "\n",
        "    elif model_name == \"vgg\":\n",
        "        \"\"\" VGG11_bn\n",
        "        \"\"\"\n",
        "        model_ft = models.vgg11_bn(pretrained=use_pretrained)\n",
        "        set_parameter_requires_grad(model_ft, feature_extract)\n",
        "        num_ftrs = model_ft.classifier[6].in_features\n",
        "        model_ft.classifier[6] = nn.Linear(num_ftrs,num_classes)\n",
        "        input_size = 224\n",
        "\n",
        "    elif model_name == \"squeezenet\":\n",
        "        \"\"\" Squeezenet\n",
        "        \"\"\"\n",
        "        model_ft = models.squeezenet1_0(pretrained=use_pretrained)\n",
        "        set_parameter_requires_grad(model_ft, feature_extract)\n",
        "        model_ft.classifier[1] = nn.Conv2d(512, num_classes, kernel_size=(1,1), stride=(1,1))\n",
        "        model_ft.num_classes = num_classes\n",
        "        input_size = 224\n",
        "\n",
        "    else:\n",
        "        print(\"Invalid model name, exiting...\")\n",
        "        exit()\n",
        "\n",
        "    return model_ft, input_size"
      ],
      "metadata": {
        "id": "C7w5Xp2vVOEg"
      },
      "execution_count": 90,
      "outputs": []
    },
    {
      "cell_type": "code",
      "source": [
        "# Models to choose from [resnet, alexnet, vgg, squeezenet, densenet, inception]\n",
        "model_name = \"resnet\"\n",
        "\n",
        "num_classes = 10\n",
        "num_epochs = 25\n",
        "\n",
        "# Flag for feature extracting. When False, we finetune the whole model,\n",
        "#   when True we only update the reshaped layer params\n",
        "feature_extract = False\n",
        "\n",
        "# Initialize the model for this run\n",
        "model_ft, input_size = initialize_model(model_name, num_classes, feature_extract, use_pretrained=True)\n",
        "\n",
        "# Print the model we just instantiated\n",
        "summary(model_ft, (3, 224, 224), device='cpu')\n"
      ],
      "metadata": {
        "colab": {
          "base_uri": "https://localhost:8080/"
        },
        "id": "AMlCSruOTLay",
        "outputId": "4b02b776-dcbf-4b1c-8ab3-65e5aba64533"
      },
      "execution_count": 91,
      "outputs": [
        {
          "output_type": "stream",
          "name": "stdout",
          "text": [
            "----------------------------------------------------------------\n",
            "        Layer (type)               Output Shape         Param #\n",
            "================================================================\n",
            "            Conv2d-1         [-1, 64, 112, 112]           9,408\n",
            "       BatchNorm2d-2         [-1, 64, 112, 112]             128\n",
            "              ReLU-3         [-1, 64, 112, 112]               0\n",
            "         MaxPool2d-4           [-1, 64, 56, 56]               0\n",
            "            Conv2d-5           [-1, 64, 56, 56]          36,864\n",
            "       BatchNorm2d-6           [-1, 64, 56, 56]             128\n",
            "              ReLU-7           [-1, 64, 56, 56]               0\n",
            "            Conv2d-8           [-1, 64, 56, 56]          36,864\n",
            "       BatchNorm2d-9           [-1, 64, 56, 56]             128\n",
            "             ReLU-10           [-1, 64, 56, 56]               0\n",
            "       BasicBlock-11           [-1, 64, 56, 56]               0\n",
            "           Conv2d-12           [-1, 64, 56, 56]          36,864\n",
            "      BatchNorm2d-13           [-1, 64, 56, 56]             128\n",
            "             ReLU-14           [-1, 64, 56, 56]               0\n",
            "           Conv2d-15           [-1, 64, 56, 56]          36,864\n",
            "      BatchNorm2d-16           [-1, 64, 56, 56]             128\n",
            "             ReLU-17           [-1, 64, 56, 56]               0\n",
            "       BasicBlock-18           [-1, 64, 56, 56]               0\n",
            "           Conv2d-19          [-1, 128, 28, 28]          73,728\n",
            "      BatchNorm2d-20          [-1, 128, 28, 28]             256\n",
            "             ReLU-21          [-1, 128, 28, 28]               0\n",
            "           Conv2d-22          [-1, 128, 28, 28]         147,456\n",
            "      BatchNorm2d-23          [-1, 128, 28, 28]             256\n",
            "           Conv2d-24          [-1, 128, 28, 28]           8,192\n",
            "      BatchNorm2d-25          [-1, 128, 28, 28]             256\n",
            "             ReLU-26          [-1, 128, 28, 28]               0\n",
            "       BasicBlock-27          [-1, 128, 28, 28]               0\n",
            "           Conv2d-28          [-1, 128, 28, 28]         147,456\n",
            "      BatchNorm2d-29          [-1, 128, 28, 28]             256\n",
            "             ReLU-30          [-1, 128, 28, 28]               0\n",
            "           Conv2d-31          [-1, 128, 28, 28]         147,456\n",
            "      BatchNorm2d-32          [-1, 128, 28, 28]             256\n",
            "             ReLU-33          [-1, 128, 28, 28]               0\n",
            "       BasicBlock-34          [-1, 128, 28, 28]               0\n",
            "           Conv2d-35          [-1, 256, 14, 14]         294,912\n",
            "      BatchNorm2d-36          [-1, 256, 14, 14]             512\n",
            "             ReLU-37          [-1, 256, 14, 14]               0\n",
            "           Conv2d-38          [-1, 256, 14, 14]         589,824\n",
            "      BatchNorm2d-39          [-1, 256, 14, 14]             512\n",
            "           Conv2d-40          [-1, 256, 14, 14]          32,768\n",
            "      BatchNorm2d-41          [-1, 256, 14, 14]             512\n",
            "             ReLU-42          [-1, 256, 14, 14]               0\n",
            "       BasicBlock-43          [-1, 256, 14, 14]               0\n",
            "           Conv2d-44          [-1, 256, 14, 14]         589,824\n",
            "      BatchNorm2d-45          [-1, 256, 14, 14]             512\n",
            "             ReLU-46          [-1, 256, 14, 14]               0\n",
            "           Conv2d-47          [-1, 256, 14, 14]         589,824\n",
            "      BatchNorm2d-48          [-1, 256, 14, 14]             512\n",
            "             ReLU-49          [-1, 256, 14, 14]               0\n",
            "       BasicBlock-50          [-1, 256, 14, 14]               0\n",
            "           Conv2d-51            [-1, 512, 7, 7]       1,179,648\n",
            "      BatchNorm2d-52            [-1, 512, 7, 7]           1,024\n",
            "             ReLU-53            [-1, 512, 7, 7]               0\n",
            "           Conv2d-54            [-1, 512, 7, 7]       2,359,296\n",
            "      BatchNorm2d-55            [-1, 512, 7, 7]           1,024\n",
            "           Conv2d-56            [-1, 512, 7, 7]         131,072\n",
            "      BatchNorm2d-57            [-1, 512, 7, 7]           1,024\n",
            "             ReLU-58            [-1, 512, 7, 7]               0\n",
            "       BasicBlock-59            [-1, 512, 7, 7]               0\n",
            "           Conv2d-60            [-1, 512, 7, 7]       2,359,296\n",
            "      BatchNorm2d-61            [-1, 512, 7, 7]           1,024\n",
            "             ReLU-62            [-1, 512, 7, 7]               0\n",
            "           Conv2d-63            [-1, 512, 7, 7]       2,359,296\n",
            "      BatchNorm2d-64            [-1, 512, 7, 7]           1,024\n",
            "             ReLU-65            [-1, 512, 7, 7]               0\n",
            "       BasicBlock-66            [-1, 512, 7, 7]               0\n",
            "AdaptiveAvgPool2d-67            [-1, 512, 1, 1]               0\n",
            "           Linear-68                   [-1, 10]           5,130\n",
            "================================================================\n",
            "Total params: 11,181,642\n",
            "Trainable params: 11,181,642\n",
            "Non-trainable params: 0\n",
            "----------------------------------------------------------------\n",
            "Input size (MB): 0.57\n",
            "Forward/backward pass size (MB): 62.79\n",
            "Params size (MB): 42.65\n",
            "Estimated Total Size (MB): 106.01\n",
            "----------------------------------------------------------------\n"
          ]
        }
      ]
    },
    {
      "cell_type": "markdown",
      "source": [
        "## Train model"
      ],
      "metadata": {
        "id": "SqloE-dVILSd"
      }
    },
    {
      "cell_type": "code",
      "source": [
        "def train_model(model, dataloaders, criterion, optimizer, num_epochs=25):\n",
        "    since = time.time()\n",
        "\n",
        "    val_acc_history = []\n",
        "\n",
        "    best_model_wts = copy.deepcopy(model.state_dict())\n",
        "    best_acc = 0.0\n",
        "\n",
        "    early_stopper = EarlyStopping(patience=5, verbose=True)\n",
        "\n",
        "    model = model.to(device)\n",
        "    for epoch in range(num_epochs):\n",
        "        print('Epoch {}/{}'.format(epoch, num_epochs - 1))\n",
        "        print('-' * 10)\n",
        "\n",
        "        # Each epoch has a training and validation phase\n",
        "        for phase in ['train', 'val']:\n",
        "            if phase == 'train':\n",
        "                model.train()  # Set model to training mode\n",
        "            else:\n",
        "                model.eval()   # Set model to evaluate mode\n",
        "\n",
        "            running_loss = 0.0\n",
        "            running_corrects = 0\n",
        "\n",
        "            # Iterate over data.\n",
        "            for inputs, labels in tqdm(dataloaders[phase], desc=f\"{phase} epoch {epoch}\"):\n",
        "                inputs = inputs.to(device)\n",
        "                labels = labels.to(device)\n",
        "\n",
        "                # zero the parameter gradients\n",
        "                optimizer.zero_grad()\n",
        "\n",
        "                # forward\n",
        "                # track history if only in train\n",
        "                with torch.set_grad_enabled(phase == 'train'):\n",
        "                    # Get model outputs and calculate loss\n",
        "                    outputs = model(inputs)\n",
        "                    loss = criterion(outputs, labels)\n",
        "\n",
        "                    _, preds = torch.max(outputs, 1)\n",
        "\n",
        "                    # backward + optimize only if in training phase\n",
        "                    if phase == 'train':\n",
        "                        loss.backward()\n",
        "                        optimizer.step()\n",
        "\n",
        "                # statistics\n",
        "                running_loss += loss.item() * inputs.size(0)\n",
        "                running_corrects += torch.sum(preds == labels.data)\n",
        "\n",
        "            epoch_loss = running_loss / len(dataloaders[phase].dataset)\n",
        "            epoch_acc = running_corrects.double() / len(dataloaders[phase].dataset)\n",
        "\n",
        "            print('{} Loss: {:.4f} Acc: {:.4f}'.format(phase, epoch_loss, epoch_acc))\n",
        "\n",
        "            # deep copy the model\n",
        "            if phase == 'val' and epoch_acc > best_acc:\n",
        "                best_acc = epoch_acc\n",
        "                best_model_wts = copy.deepcopy(model.state_dict())\n",
        "                torch.save(best_model_wts, \"./best_model.pth\")\n",
        "            if phase == 'val':\n",
        "                val_acc_history.append(epoch_acc)\n",
        "                scheduler.step(epoch_acc)\n",
        "                if early_stopper.early_stop:\n",
        "                  print(\"Early stopping triggered.\")\n",
        "                  break\n",
        "\n",
        "        print()\n",
        "\n",
        "    time_elapsed = time.time() - since\n",
        "    print('Training complete in {:.0f}m {:.0f}s'.format(time_elapsed // 60, time_elapsed % 60))\n",
        "    print('Best val Acc: {:4f}'.format(best_acc))\n",
        "\n",
        "    # load best model weights\n",
        "    model.load_state_dict(best_model_wts)\n",
        "    return model, val_acc_history"
      ],
      "metadata": {
        "id": "BSJUGYaPVDSa"
      },
      "execution_count": 102,
      "outputs": []
    },
    {
      "cell_type": "code",
      "source": [
        "def extract_features(model, dataloader, device):\n",
        "    model.eval()\n",
        "    features = []\n",
        "    labels = []\n",
        "\n",
        "    with torch.no_grad():\n",
        "        for inputs, targets in dataloader:\n",
        "            inputs = inputs.to(device)\n",
        "            outputs = model.conv1(inputs)\n",
        "            outputs = model.bn1(outputs)\n",
        "            outputs = model.relu(outputs)\n",
        "            outputs = model.maxpool(outputs)\n",
        "\n",
        "            outputs = model.layer1(outputs)\n",
        "            outputs = model.layer2(outputs)\n",
        "            outputs = model.layer3(outputs)\n",
        "            outputs = model.layer4(outputs)\n",
        "            outputs = model.avgpool(outputs)\n",
        "            outputs = torch.flatten(outputs, 1)  # shape = (B, 512)\n",
        "\n",
        "            features.append(outputs.cpu().numpy())\n",
        "            labels.append(targets.numpy())\n",
        "\n",
        "    return np.concatenate(features), np.concatenate(labels)\n"
      ],
      "metadata": {
        "id": "mZfFOGGUTrkp"
      },
      "execution_count": 103,
      "outputs": []
    },
    {
      "cell_type": "code",
      "source": [
        "# Detect if we have a GPU available\n",
        "device = torch.device(\"cuda:0\" if torch.cuda.is_available() else \"cpu\")"
      ],
      "metadata": {
        "id": "LpyM6S03VXKO"
      },
      "execution_count": 104,
      "outputs": []
    },
    {
      "cell_type": "code",
      "source": [
        "# 파라미터 그룹별로 학습률 다르게 설정\n",
        "params_to_update = [\n",
        "    {\"params\": [], \"lr\": 0.00001},  # 초기층\n",
        "    {\"params\": [], \"lr\": 0.00005},  # 중간층\n",
        "    {\"params\": [], \"lr\": 0.0001},  # 최종층\n",
        "]\n",
        "\n",
        "for name, param in model_ft.named_parameters():\n",
        "    if not param.requires_grad:\n",
        "        continue\n",
        "    if \"layer1\" in name or \"layer2\" in name or \"conv1\" in name:\n",
        "        params_to_update[0][\"params\"].append(param)\n",
        "    elif \"layer3\" in name or \"layer4\" in name:\n",
        "        params_to_update[1][\"params\"].append(param)\n",
        "    else:\n",
        "        params_to_update[2][\"params\"].append(param)\n",
        "\n",
        "# Observe that all parameters are being optimized\n",
        "optimizer_ft = optim.Adam(params_to_update)\n"
      ],
      "metadata": {
        "id": "22iCsSbnVbiN"
      },
      "execution_count": 105,
      "outputs": []
    },
    {
      "cell_type": "code",
      "source": [
        "# Setup the loss fxn\n",
        "criterion = nn.CrossEntropyLoss()\n",
        "\n",
        "scheduler = ReduceLROnPlateau(optimizer_ft, mode='max', factor=0.5, patience=3, verbose=True)\n",
        "# 학습 시작 전에 딱 한 번 실행해서 병목 위치 확인\n",
        "import time\n",
        "\n",
        "print(\"⏱ 배치 하나 불러오는 데 걸리는 시간 확인 중...\")\n",
        "for inputs, labels in dataloaders['train']:\n",
        "    start = time.time()\n",
        "    inputs = inputs.to(device)\n",
        "    end = time.time()\n",
        "    print(\"✅ 배치 로딩 + GPU 전송 시간:\", round(end - start, 3), \"초\")\n",
        "    break  # 딱 1개 배치만 확인\n",
        "# Train and evaluate\n",
        "model_ft, hist = train_model(model_ft, dataloaders, criterion, optimizer_ft, num_epochs=num_epochs)"
      ],
      "metadata": {
        "colab": {
          "base_uri": "https://localhost:8080/"
        },
        "id": "QJZ2gUmNejXK",
        "outputId": "2d9e5983-e63e-4802-cd9b-4f8bdd492888"
      },
      "execution_count": 106,
      "outputs": [
        {
          "output_type": "stream",
          "name": "stdout",
          "text": [
            "⏱ 배치 하나 불러오는 데 걸리는 시간 확인 중...\n",
            "✅ 배치 로딩 + GPU 전송 시간: 0.004 초\n",
            "Epoch 0/24\n",
            "----------\n"
          ]
        },
        {
          "output_type": "stream",
          "name": "stderr",
          "text": [
            "train epoch 0: 100%|██████████| 228/228 [01:38<00:00,  2.31it/s]\n"
          ]
        },
        {
          "output_type": "stream",
          "name": "stdout",
          "text": [
            "train Loss: 0.7495 Acc: 0.7526\n"
          ]
        },
        {
          "output_type": "stream",
          "name": "stderr",
          "text": [
            "val epoch 0: 100%|██████████| 57/57 [00:10<00:00,  5.20it/s]\n"
          ]
        },
        {
          "output_type": "stream",
          "name": "stdout",
          "text": [
            "val Loss: 0.3792 Acc: 0.8807\n",
            "\n",
            "Epoch 1/24\n",
            "----------\n"
          ]
        },
        {
          "output_type": "stream",
          "name": "stderr",
          "text": [
            "train epoch 1: 100%|██████████| 228/228 [01:38<00:00,  2.32it/s]\n"
          ]
        },
        {
          "output_type": "stream",
          "name": "stdout",
          "text": [
            "train Loss: 0.6818 Acc: 0.7738\n"
          ]
        },
        {
          "output_type": "stream",
          "name": "stderr",
          "text": [
            "val epoch 1: 100%|██████████| 57/57 [00:10<00:00,  5.32it/s]\n"
          ]
        },
        {
          "output_type": "stream",
          "name": "stdout",
          "text": [
            "val Loss: 0.3451 Acc: 0.8917\n",
            "\n",
            "Epoch 2/24\n",
            "----------\n"
          ]
        },
        {
          "output_type": "stream",
          "name": "stderr",
          "text": [
            "train epoch 2: 100%|██████████| 228/228 [01:38<00:00,  2.31it/s]\n"
          ]
        },
        {
          "output_type": "stream",
          "name": "stdout",
          "text": [
            "train Loss: 0.6119 Acc: 0.7943\n"
          ]
        },
        {
          "output_type": "stream",
          "name": "stderr",
          "text": [
            "val epoch 2: 100%|██████████| 57/57 [00:10<00:00,  5.33it/s]\n"
          ]
        },
        {
          "output_type": "stream",
          "name": "stdout",
          "text": [
            "val Loss: 0.3048 Acc: 0.8983\n",
            "\n",
            "Epoch 3/24\n",
            "----------\n"
          ]
        },
        {
          "output_type": "stream",
          "name": "stderr",
          "text": [
            "train epoch 3: 100%|██████████| 228/228 [01:37<00:00,  2.33it/s]\n"
          ]
        },
        {
          "output_type": "stream",
          "name": "stdout",
          "text": [
            "train Loss: 0.6029 Acc: 0.7992\n"
          ]
        },
        {
          "output_type": "stream",
          "name": "stderr",
          "text": [
            "val epoch 3: 100%|██████████| 57/57 [00:10<00:00,  5.34it/s]\n"
          ]
        },
        {
          "output_type": "stream",
          "name": "stdout",
          "text": [
            "val Loss: 0.3035 Acc: 0.8988\n",
            "\n",
            "Epoch 4/24\n",
            "----------\n"
          ]
        },
        {
          "output_type": "stream",
          "name": "stderr",
          "text": [
            "train epoch 4: 100%|██████████| 228/228 [01:37<00:00,  2.33it/s]\n"
          ]
        },
        {
          "output_type": "stream",
          "name": "stdout",
          "text": [
            "train Loss: 0.5602 Acc: 0.8152\n"
          ]
        },
        {
          "output_type": "stream",
          "name": "stderr",
          "text": [
            "val epoch 4: 100%|██████████| 57/57 [00:10<00:00,  5.28it/s]\n"
          ]
        },
        {
          "output_type": "stream",
          "name": "stdout",
          "text": [
            "val Loss: 0.2931 Acc: 0.8988\n",
            "\n",
            "Epoch 5/24\n",
            "----------\n"
          ]
        },
        {
          "output_type": "stream",
          "name": "stderr",
          "text": [
            "train epoch 5: 100%|██████████| 228/228 [01:37<00:00,  2.34it/s]\n"
          ]
        },
        {
          "output_type": "stream",
          "name": "stdout",
          "text": [
            "train Loss: 0.5408 Acc: 0.8183\n"
          ]
        },
        {
          "output_type": "stream",
          "name": "stderr",
          "text": [
            "val epoch 5: 100%|██████████| 57/57 [00:10<00:00,  5.51it/s]\n"
          ]
        },
        {
          "output_type": "stream",
          "name": "stdout",
          "text": [
            "val Loss: 0.2769 Acc: 0.9065\n",
            "\n",
            "Epoch 6/24\n",
            "----------\n"
          ]
        },
        {
          "output_type": "stream",
          "name": "stderr",
          "text": [
            "train epoch 6: 100%|██████████| 228/228 [01:37<00:00,  2.33it/s]\n"
          ]
        },
        {
          "output_type": "stream",
          "name": "stdout",
          "text": [
            "train Loss: 0.5389 Acc: 0.8197\n"
          ]
        },
        {
          "output_type": "stream",
          "name": "stderr",
          "text": [
            "val epoch 6: 100%|██████████| 57/57 [00:10<00:00,  5.36it/s]\n"
          ]
        },
        {
          "output_type": "stream",
          "name": "stdout",
          "text": [
            "val Loss: 0.2978 Acc: 0.9005\n",
            "\n",
            "Epoch 7/24\n",
            "----------\n"
          ]
        },
        {
          "output_type": "stream",
          "name": "stderr",
          "text": [
            "train epoch 7: 100%|██████████| 228/228 [01:37<00:00,  2.34it/s]\n"
          ]
        },
        {
          "output_type": "stream",
          "name": "stdout",
          "text": [
            "train Loss: 0.5127 Acc: 0.8252\n"
          ]
        },
        {
          "output_type": "stream",
          "name": "stderr",
          "text": [
            "val epoch 7: 100%|██████████| 57/57 [00:10<00:00,  5.30it/s]\n"
          ]
        },
        {
          "output_type": "stream",
          "name": "stdout",
          "text": [
            "val Loss: 0.2824 Acc: 0.8999\n",
            "\n",
            "Epoch 8/24\n",
            "----------\n"
          ]
        },
        {
          "output_type": "stream",
          "name": "stderr",
          "text": [
            "train epoch 8: 100%|██████████| 228/228 [01:37<00:00,  2.35it/s]\n"
          ]
        },
        {
          "output_type": "stream",
          "name": "stdout",
          "text": [
            "train Loss: 0.4992 Acc: 0.8315\n"
          ]
        },
        {
          "output_type": "stream",
          "name": "stderr",
          "text": [
            "val epoch 8: 100%|██████████| 57/57 [00:10<00:00,  5.29it/s]\n"
          ]
        },
        {
          "output_type": "stream",
          "name": "stdout",
          "text": [
            "val Loss: 0.2547 Acc: 0.9109\n",
            "\n",
            "Epoch 9/24\n",
            "----------\n"
          ]
        },
        {
          "output_type": "stream",
          "name": "stderr",
          "text": [
            "train epoch 9: 100%|██████████| 228/228 [01:37<00:00,  2.33it/s]\n"
          ]
        },
        {
          "output_type": "stream",
          "name": "stdout",
          "text": [
            "train Loss: 0.4897 Acc: 0.8372\n"
          ]
        },
        {
          "output_type": "stream",
          "name": "stderr",
          "text": [
            "val epoch 9: 100%|██████████| 57/57 [00:10<00:00,  5.38it/s]\n"
          ]
        },
        {
          "output_type": "stream",
          "name": "stdout",
          "text": [
            "val Loss: 0.2641 Acc: 0.9087\n",
            "\n",
            "Epoch 10/24\n",
            "----------\n"
          ]
        },
        {
          "output_type": "stream",
          "name": "stderr",
          "text": [
            "train epoch 10: 100%|██████████| 228/228 [01:37<00:00,  2.34it/s]\n"
          ]
        },
        {
          "output_type": "stream",
          "name": "stdout",
          "text": [
            "train Loss: 0.4852 Acc: 0.8402\n"
          ]
        },
        {
          "output_type": "stream",
          "name": "stderr",
          "text": [
            "val epoch 10: 100%|██████████| 57/57 [00:10<00:00,  5.52it/s]\n"
          ]
        },
        {
          "output_type": "stream",
          "name": "stdout",
          "text": [
            "val Loss: 0.2640 Acc: 0.9175\n",
            "\n",
            "Epoch 11/24\n",
            "----------\n"
          ]
        },
        {
          "output_type": "stream",
          "name": "stderr",
          "text": [
            "train epoch 11: 100%|██████████| 228/228 [01:37<00:00,  2.33it/s]\n"
          ]
        },
        {
          "output_type": "stream",
          "name": "stdout",
          "text": [
            "train Loss: 0.4616 Acc: 0.8431\n"
          ]
        },
        {
          "output_type": "stream",
          "name": "stderr",
          "text": [
            "val epoch 11: 100%|██████████| 57/57 [00:10<00:00,  5.34it/s]\n"
          ]
        },
        {
          "output_type": "stream",
          "name": "stdout",
          "text": [
            "val Loss: 0.2632 Acc: 0.9109\n",
            "\n",
            "Epoch 12/24\n",
            "----------\n"
          ]
        },
        {
          "output_type": "stream",
          "name": "stderr",
          "text": [
            "train epoch 12: 100%|██████████| 228/228 [01:36<00:00,  2.37it/s]\n"
          ]
        },
        {
          "output_type": "stream",
          "name": "stdout",
          "text": [
            "train Loss: 0.4695 Acc: 0.8424\n"
          ]
        },
        {
          "output_type": "stream",
          "name": "stderr",
          "text": [
            "val epoch 12: 100%|██████████| 57/57 [00:10<00:00,  5.25it/s]\n"
          ]
        },
        {
          "output_type": "stream",
          "name": "stdout",
          "text": [
            "val Loss: 0.2599 Acc: 0.9148\n",
            "\n",
            "Epoch 13/24\n",
            "----------\n"
          ]
        },
        {
          "output_type": "stream",
          "name": "stderr",
          "text": [
            "train epoch 13: 100%|██████████| 228/228 [01:36<00:00,  2.36it/s]\n"
          ]
        },
        {
          "output_type": "stream",
          "name": "stdout",
          "text": [
            "train Loss: 0.4637 Acc: 0.8452\n"
          ]
        },
        {
          "output_type": "stream",
          "name": "stderr",
          "text": [
            "val epoch 13: 100%|██████████| 57/57 [00:10<00:00,  5.33it/s]\n"
          ]
        },
        {
          "output_type": "stream",
          "name": "stdout",
          "text": [
            "val Loss: 0.2577 Acc: 0.9159\n",
            "\n",
            "Epoch 14/24\n",
            "----------\n"
          ]
        },
        {
          "output_type": "stream",
          "name": "stderr",
          "text": [
            "train epoch 14: 100%|██████████| 228/228 [01:36<00:00,  2.37it/s]\n"
          ]
        },
        {
          "output_type": "stream",
          "name": "stdout",
          "text": [
            "train Loss: 0.4155 Acc: 0.8603\n"
          ]
        },
        {
          "output_type": "stream",
          "name": "stderr",
          "text": [
            "val epoch 14: 100%|██████████| 57/57 [00:10<00:00,  5.32it/s]\n"
          ]
        },
        {
          "output_type": "stream",
          "name": "stdout",
          "text": [
            "val Loss: 0.2603 Acc: 0.9148\n",
            "\n",
            "Epoch 15/24\n",
            "----------\n"
          ]
        },
        {
          "output_type": "stream",
          "name": "stderr",
          "text": [
            "train epoch 15: 100%|██████████| 228/228 [01:36<00:00,  2.35it/s]\n"
          ]
        },
        {
          "output_type": "stream",
          "name": "stdout",
          "text": [
            "train Loss: 0.4267 Acc: 0.8601\n"
          ]
        },
        {
          "output_type": "stream",
          "name": "stderr",
          "text": [
            "val epoch 15: 100%|██████████| 57/57 [00:10<00:00,  5.29it/s]\n"
          ]
        },
        {
          "output_type": "stream",
          "name": "stdout",
          "text": [
            "val Loss: 0.2544 Acc: 0.9186\n",
            "\n",
            "Epoch 16/24\n",
            "----------\n"
          ]
        },
        {
          "output_type": "stream",
          "name": "stderr",
          "text": [
            "train epoch 16: 100%|██████████| 228/228 [01:39<00:00,  2.29it/s]\n"
          ]
        },
        {
          "output_type": "stream",
          "name": "stdout",
          "text": [
            "train Loss: 0.4113 Acc: 0.8651\n"
          ]
        },
        {
          "output_type": "stream",
          "name": "stderr",
          "text": [
            "val epoch 16: 100%|██████████| 57/57 [00:10<00:00,  5.49it/s]\n"
          ]
        },
        {
          "output_type": "stream",
          "name": "stdout",
          "text": [
            "val Loss: 0.2487 Acc: 0.9148\n",
            "\n",
            "Epoch 17/24\n",
            "----------\n"
          ]
        },
        {
          "output_type": "stream",
          "name": "stderr",
          "text": [
            "train epoch 17: 100%|██████████| 228/228 [01:38<00:00,  2.31it/s]\n"
          ]
        },
        {
          "output_type": "stream",
          "name": "stdout",
          "text": [
            "train Loss: 0.4230 Acc: 0.8615\n"
          ]
        },
        {
          "output_type": "stream",
          "name": "stderr",
          "text": [
            "val epoch 17: 100%|██████████| 57/57 [00:10<00:00,  5.33it/s]\n"
          ]
        },
        {
          "output_type": "stream",
          "name": "stdout",
          "text": [
            "val Loss: 0.2539 Acc: 0.9137\n",
            "\n",
            "Epoch 18/24\n",
            "----------\n"
          ]
        },
        {
          "output_type": "stream",
          "name": "stderr",
          "text": [
            "train epoch 18: 100%|██████████| 228/228 [01:37<00:00,  2.34it/s]\n"
          ]
        },
        {
          "output_type": "stream",
          "name": "stdout",
          "text": [
            "train Loss: 0.3968 Acc: 0.8672\n"
          ]
        },
        {
          "output_type": "stream",
          "name": "stderr",
          "text": [
            "val epoch 18: 100%|██████████| 57/57 [00:10<00:00,  5.31it/s]\n"
          ]
        },
        {
          "output_type": "stream",
          "name": "stdout",
          "text": [
            "val Loss: 0.2481 Acc: 0.9214\n",
            "\n",
            "Epoch 19/24\n",
            "----------\n"
          ]
        },
        {
          "output_type": "stream",
          "name": "stderr",
          "text": [
            "train epoch 19: 100%|██████████| 228/228 [01:38<00:00,  2.32it/s]\n"
          ]
        },
        {
          "output_type": "stream",
          "name": "stdout",
          "text": [
            "train Loss: 0.3964 Acc: 0.8683\n"
          ]
        },
        {
          "output_type": "stream",
          "name": "stderr",
          "text": [
            "val epoch 19: 100%|██████████| 57/57 [00:10<00:00,  5.30it/s]\n"
          ]
        },
        {
          "output_type": "stream",
          "name": "stdout",
          "text": [
            "val Loss: 0.2399 Acc: 0.9258\n",
            "\n",
            "Epoch 20/24\n",
            "----------\n"
          ]
        },
        {
          "output_type": "stream",
          "name": "stderr",
          "text": [
            "train epoch 20: 100%|██████████| 228/228 [01:38<00:00,  2.31it/s]\n"
          ]
        },
        {
          "output_type": "stream",
          "name": "stdout",
          "text": [
            "train Loss: 0.3903 Acc: 0.8691\n"
          ]
        },
        {
          "output_type": "stream",
          "name": "stderr",
          "text": [
            "val epoch 20: 100%|██████████| 57/57 [00:10<00:00,  5.40it/s]\n"
          ]
        },
        {
          "output_type": "stream",
          "name": "stdout",
          "text": [
            "val Loss: 0.2433 Acc: 0.9192\n",
            "\n",
            "Epoch 21/24\n",
            "----------\n"
          ]
        },
        {
          "output_type": "stream",
          "name": "stderr",
          "text": [
            "train epoch 21: 100%|██████████| 228/228 [01:37<00:00,  2.33it/s]\n"
          ]
        },
        {
          "output_type": "stream",
          "name": "stdout",
          "text": [
            "train Loss: 0.3893 Acc: 0.8699\n"
          ]
        },
        {
          "output_type": "stream",
          "name": "stderr",
          "text": [
            "val epoch 21: 100%|██████████| 57/57 [00:10<00:00,  5.42it/s]\n"
          ]
        },
        {
          "output_type": "stream",
          "name": "stdout",
          "text": [
            "val Loss: 0.2454 Acc: 0.9252\n",
            "\n",
            "Epoch 22/24\n",
            "----------\n"
          ]
        },
        {
          "output_type": "stream",
          "name": "stderr",
          "text": [
            "train epoch 22: 100%|██████████| 228/228 [01:37<00:00,  2.33it/s]\n"
          ]
        },
        {
          "output_type": "stream",
          "name": "stdout",
          "text": [
            "train Loss: 0.3804 Acc: 0.8725\n"
          ]
        },
        {
          "output_type": "stream",
          "name": "stderr",
          "text": [
            "val epoch 22: 100%|██████████| 57/57 [00:10<00:00,  5.27it/s]\n"
          ]
        },
        {
          "output_type": "stream",
          "name": "stdout",
          "text": [
            "val Loss: 0.2483 Acc: 0.9164\n",
            "\n",
            "Epoch 23/24\n",
            "----------\n"
          ]
        },
        {
          "output_type": "stream",
          "name": "stderr",
          "text": [
            "train epoch 23: 100%|██████████| 228/228 [01:36<00:00,  2.35it/s]\n"
          ]
        },
        {
          "output_type": "stream",
          "name": "stdout",
          "text": [
            "train Loss: 0.4125 Acc: 0.8640\n"
          ]
        },
        {
          "output_type": "stream",
          "name": "stderr",
          "text": [
            "val epoch 23: 100%|██████████| 57/57 [00:10<00:00,  5.36it/s]\n"
          ]
        },
        {
          "output_type": "stream",
          "name": "stdout",
          "text": [
            "val Loss: 0.2456 Acc: 0.9247\n",
            "\n",
            "Epoch 24/24\n",
            "----------\n"
          ]
        },
        {
          "output_type": "stream",
          "name": "stderr",
          "text": [
            "train epoch 24: 100%|██████████| 228/228 [01:37<00:00,  2.33it/s]\n"
          ]
        },
        {
          "output_type": "stream",
          "name": "stdout",
          "text": [
            "train Loss: 0.3750 Acc: 0.8764\n"
          ]
        },
        {
          "output_type": "stream",
          "name": "stderr",
          "text": [
            "val epoch 24: 100%|██████████| 57/57 [00:10<00:00,  5.20it/s]"
          ]
        },
        {
          "output_type": "stream",
          "name": "stdout",
          "text": [
            "val Loss: 0.2468 Acc: 0.9186\n",
            "\n",
            "Training complete in 45m 12s\n",
            "Best val Acc: 0.925783\n"
          ]
        },
        {
          "output_type": "stream",
          "name": "stderr",
          "text": [
            "\n"
          ]
        }
      ]
    },
    {
      "cell_type": "markdown",
      "source": [
        "## Save the model & features"
      ],
      "metadata": {
        "id": "JRaNySNTepkQ"
      }
    },
    {
      "cell_type": "code",
      "source": [
        "from sklearn.metrics import classification_report\n",
        "def get_all_preds(model, dataloader, device):\n",
        "    model.eval()\n",
        "    all_preds = []\n",
        "    all_labels = []\n",
        "\n",
        "    with torch.no_grad():\n",
        "        for inputs, labels in dataloader:\n",
        "            inputs = inputs.to(device)\n",
        "            outputs = model(inputs)\n",
        "            _, preds = torch.max(outputs, 1)\n",
        "\n",
        "            all_preds.extend(preds.cpu().numpy())\n",
        "            all_labels.extend(labels.cpu().numpy())\n",
        "\n",
        "    return np.array(all_labels), np.array(all_preds)\n",
        "# 예측 실행\n",
        "true_labels, pred_labels = get_all_preds(model_ft, dataloaders['val'], device)\n",
        "\n",
        "# 클래스 이름 정의\n",
        "class_names = ['Bicycle', 'Bridge', 'Bus', 'Car',\n",
        "               'Chimney', 'Crosswalk', 'Hydrant',\n",
        "               'Motorcycle', 'Palm', 'Traffic Light']\n",
        "\n",
        "# 결과 출력\n",
        "print(classification_report(true_labels, pred_labels, target_names=class_names, digits=4))\n"
      ],
      "metadata": {
        "id": "oMVfMNmwhvwL",
        "colab": {
          "base_uri": "https://localhost:8080/"
        },
        "outputId": "0a4de082-86e8-40f2-e594-a30db548a44a"
      },
      "execution_count": 107,
      "outputs": [
        {
          "output_type": "stream",
          "name": "stdout",
          "text": [
            "               precision    recall  f1-score   support\n",
            "\n",
            "      Bicycle     0.9309    0.9622    0.9463       238\n",
            "       Bridge     0.8627    0.9263    0.8934        95\n",
            "          Bus     0.9510    0.9510    0.9510       204\n",
            "          Car     0.8191    0.8191    0.8191       199\n",
            "      Chimney     0.9753    0.9875    0.9814        80\n",
            "    Crosswalk     0.9328    0.9255    0.9291       255\n",
            "      Hydrant     1.0000    0.9952    0.9976       208\n",
            "   Motorcycle     0.9556    0.9085    0.9314       142\n",
            "         Palm     0.9369    0.9147    0.9257       211\n",
            "Traffic Light     0.8925    0.8877    0.8901       187\n",
            "\n",
            "     accuracy                         0.9258      1819\n",
            "    macro avg     0.9257    0.9278    0.9265      1819\n",
            " weighted avg     0.9262    0.9258    0.9258      1819\n",
            "\n"
          ]
        }
      ]
    },
    {
      "cell_type": "code",
      "source": [
        "train_features, train_labels = extract_features(model_ft, dataloaders['train'], device)\n",
        "\n",
        "np.save(\"train_features.npy\", train_features)\n",
        "np.save(\"train_labels.npy\", train_labels)\n",
        "\n",
        "print(\"✅ Feature 저장 완료:\", train_features.shape, train_labels.shape)"
      ],
      "metadata": {
        "id": "q8fbRR0-T1JH"
      },
      "execution_count": null,
      "outputs": []
    },
    {
      "cell_type": "code",
      "source": [
        "model_ft = torch.load('resnet18_ft.pt')\n",
        "modules = list(model_ft.children())[:-1]\n",
        "resnet18_feat = nn.Sequential(*modules)\n",
        "for p in resnet18_feat.parameters():\n",
        "    p.requires_grad = False\n",
        "\n",
        "for inputs, labels in dataloaders['val']:\n",
        "    inputs = inputs.to(device)\n",
        "    h = resnet18_feat(inputs)\n",
        "    # print(h.shape)      # [32, 512, 1, 1]\n",
        "\n",
        "    '''\n",
        "    code:\n",
        "    save the (features, labels)\n",
        "    '''"
      ],
      "metadata": {
        "id": "ak8zAYtSiVID"
      },
      "execution_count": null,
      "outputs": []
    },
    {
      "cell_type": "code",
      "source": [
        "def extract_single_feature(model, image_tensor, device):\n",
        "    model_ft.load_state_dict(torch.load(\"best_model.pth\"))\n",
        "    model.eval()\n",
        "    image_tensor = image_tensor.unsqueeze(0).to(device)  # (1, C, H, W)\n",
        "\n",
        "    with torch.no_grad():\n",
        "        x = model.conv1(image_tensor)\n",
        "        x = model.bn1(x)\n",
        "        x = model.relu(x)\n",
        "        x = model.maxpool(x)\n",
        "\n",
        "        x = model.layer1(x)\n",
        "        x = model.layer2(x)\n",
        "        x = model.layer3(x)\n",
        "        x = model.layer4(x)\n",
        "        x = model.avgpool(x)\n",
        "        x = torch.flatten(x, 1)\n",
        "\n",
        "    return x.cpu().numpy()[0]  # shape = (512,)\n"
      ],
      "metadata": {
        "id": "PsD8OrhJPcIO"
      },
      "execution_count": null,
      "outputs": []
    }
  ]
}